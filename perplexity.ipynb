{
 "cells": [
  {
   "cell_type": "code",
   "execution_count": 1,
   "metadata": {},
   "outputs": [],
   "source": [
    "import tensorflow as tf\n",
    "from tensorflow.keras.preprocessing.sequence import pad_sequences\n",
    "from tensorflow.keras.preprocessing.text import Tokenizer\n",
    "import numpy as np\n",
    "import pickle"
   ]
  },
  {
   "cell_type": "code",
   "execution_count": 10,
   "metadata": {},
   "outputs": [],
   "source": [
    "def calculate_perplexity(model_path, tokenizer_path, text):\n",
    "    # Load the trained model\n",
    "    model = tf.keras.models.load_model(model_path)\n",
    "\n",
    "    # Load the tokenizer\n",
    "    with open(tokenizer_path, 'rb') as tokenizer_file:\n",
    "        tokenizer = pickle.load(tokenizer_file)\n",
    "\n",
    "    # Preprocess the input text\n",
    "    input_sequence = tokenizer.texts_to_sequences([text])\n",
    "    input_sequence = pad_sequences(input_sequence, maxlen=model.input_shape[1])\n",
    "\n",
    "    # Calculate perplexity\n",
    "    predictions = model.predict(input_sequence)\n",
    "    perplexity = np.exp(np.mean(-np.log(predictions)))\n",
    "\n",
    "    return perplexity"
   ]
  },
  {
   "cell_type": "code",
   "execution_count": 11,
   "metadata": {},
   "outputs": [
    {
     "name": "stdout",
     "output_type": "stream",
     "text": [
      "1/1 [==============================] - 3s 3s/step\n",
      "Perplexity: 7410835.5\n"
     ]
    }
   ],
   "source": [
    "# GRU\n",
    "model_path = './GRU/GRUModelsT/model_20230608_190827.h5'\n",
    "tokenizer_path = './GRU/GRU TokenizerT/tokenizer_20230608_190827.pkl'\n",
    "input_text = \"I wanna dance with somebody\"\n",
    "\n",
    "perplexity = calculate_perplexity(model_path, tokenizer_path, input_text)\n",
    "print(f\"Perplexity: {perplexity}\")"
   ]
  },
  {
   "cell_type": "code",
   "execution_count": null,
   "metadata": {},
   "outputs": [],
   "source": [
    "# LSTM\n",
    "model_path = './LSTM/LSTMModelsT/model_20230608_185915.h5'\n",
    "tokenizer_path = './LSTM/LSTM TokenizerT/tokenizer_20230608_190043.pkl'\n",
    "input_text = \"I wanna dance with somebody\"\n",
    "\n",
    "perplexity = calculate_perplexity(model_path, tokenizer_path, input_text)\n",
    "print(f\"Perplexity: {perplexity}\")"
   ]
  },
  {
   "cell_type": "code",
   "execution_count": null,
   "metadata": {},
   "outputs": [],
   "source": [
    "# Bi-LSTM\n",
    "model_path = './Bi-LSTM/Bi-LSTMModelsT/model_20230608_192510.h5'\n",
    "tokenizer_path = './Bi-LSTM/Bi-LSTM TokenizerT/tokenizer_20230608_192510.pkl'\n",
    "input_text = \"I wanna dance with somebody\"\n",
    "\n",
    "perplexity = calculate_perplexity(model_path, tokenizer_path, input_text)\n",
    "print(f\"Perplexity: {perplexity}\")"
   ]
  }
 ],
 "metadata": {
  "kernelspec": {
   "display_name": "textGeneration",
   "language": "python",
   "name": "python3"
  },
  "language_info": {
   "codemirror_mode": {
    "name": "ipython",
    "version": 3
   },
   "file_extension": ".py",
   "mimetype": "text/x-python",
   "name": "python",
   "nbconvert_exporter": "python",
   "pygments_lexer": "ipython3",
   "version": "3.10.11"
  },
  "orig_nbformat": 4
 },
 "nbformat": 4,
 "nbformat_minor": 2
}
