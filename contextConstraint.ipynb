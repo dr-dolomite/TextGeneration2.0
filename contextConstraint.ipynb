{
 "cells": [
  {
   "cell_type": "code",
   "execution_count": 1,
   "metadata": {},
   "outputs": [],
   "source": [
    "import tensorflow as tf\n",
    "from tensorflow.keras.preprocessing.sequence import pad_sequences\n",
    "from tensorflow.keras.preprocessing.text import Tokenizer\n",
    "import numpy as np\n",
    "import pickle"
   ]
  },
  {
   "cell_type": "code",
   "execution_count": 2,
   "metadata": {},
   "outputs": [],
   "source": [
    "def evaluate_lyrical_text(model_path, tokenizer_path, seed_text, next_words):\n",
    "    # Load the trained model\n",
    "    model = tf.keras.models.load_model(model_path)\n",
    "\n",
    "    # Load the tokenizer\n",
    "    with open(tokenizer_path, 'rb') as tokenizer_file:\n",
    "        tokenizer = pickle.load(tokenizer_file)\n",
    "\n",
    "    generated_lyrics = seed_text\n",
    "\n",
    "    for _ in range(next_words):\n",
    "        # Preprocess the seed text\n",
    "        token_list = tokenizer.texts_to_sequences([seed_text])[0]\n",
    "        token_list = pad_sequences([token_list], maxlen=model.input_shape[1], padding='pre')\n",
    "\n",
    "        # Generate the next word\n",
    "        predicted = np.argmax(model.predict(token_list), axis=-1)\n",
    "\n",
    "        # Convert the predicted word index to the corresponding word\n",
    "        output_word = \"\"\n",
    "        for word, index in tokenizer.word_index.items():\n",
    "            if index == predicted:\n",
    "                output_word = word\n",
    "                break\n",
    "\n",
    "        # Update the seed text with the predicted word\n",
    "        seed_text += \" \" + output_word\n",
    "        generated_lyrics += \" \" + output_word\n",
    "\n",
    "    return generated_lyrics"
   ]
  },
  {
   "cell_type": "code",
   "execution_count": 3,
   "metadata": {},
   "outputs": [
    {
     "name": "stdout",
     "output_type": "stream",
     "text": [
      "1/1 [==============================] - 5s 5s/step\n",
      "1/1 [==============================] - 0s 36ms/step\n",
      "1/1 [==============================] - 0s 36ms/step\n",
      "1/1 [==============================] - 0s 29ms/step\n",
      "1/1 [==============================] - 0s 29ms/step\n",
      "1/1 [==============================] - 0s 28ms/step\n",
      "1/1 [==============================] - 0s 24ms/step\n",
      "1/1 [==============================] - 0s 28ms/step\n",
      "1/1 [==============================] - 0s 28ms/step\n",
      "1/1 [==============================] - 0s 26ms/step\n",
      "1/1 [==============================] - 0s 33ms/step\n",
      "1/1 [==============================] - 0s 27ms/step\n",
      "1/1 [==============================] - 0s 27ms/step\n",
      "1/1 [==============================] - 0s 28ms/step\n",
      "1/1 [==============================] - 0s 24ms/step\n",
      "1/1 [==============================] - 0s 26ms/step\n",
      "1/1 [==============================] - 0s 26ms/step\n",
      "1/1 [==============================] - 0s 26ms/step\n",
      "1/1 [==============================] - 0s 27ms/step\n",
      "1/1 [==============================] - 0s 24ms/step\n",
      "Generated Lyrics: I wanna dance with somebody farrell to pray took me my love i say me no hair me thyme a where i said to take\n"
     ]
    }
   ],
   "source": [
    "# GRU\n",
    "model_path = './GRU/GRUModelsT/model_20230608_190827.h5'\n",
    "tokenizer_path = './GRU/GRU TokenizerT/tokenizer_20230608_190827.pkl'\n",
    "seed_text = \"I wanna dance with somebody\"\n",
    "next_words = 20\n",
    "\n",
    "generated_lyrics = evaluate_lyrical_text(model_path, tokenizer_path, seed_text, next_words)\n",
    "print(f\"Generated Lyrics: {generated_lyrics}\")"
   ]
  },
  {
   "cell_type": "code",
   "execution_count": null,
   "metadata": {},
   "outputs": [],
   "source": [
    "# LSTM\n",
    "model_path = './LSTM/LSTMModelsT/model_20230608_185915.h5'\n",
    "tokenizer_path = './LSTM/LSTM TokenizerT/tokenizer_20230608_190043.pkl'\n",
    "seed_text = \"I wanna dance with somebody\"\n",
    "next_words = 20\n",
    "\n",
    "generated_lyrics = evaluate_lyrical_text(model_path, tokenizer_path, seed_text, next_words)\n",
    "print(f\"Generated Lyrics: {generated_lyrics}\")"
   ]
  },
  {
   "cell_type": "code",
   "execution_count": null,
   "metadata": {},
   "outputs": [],
   "source": [
    "# Bi-LSTM\n",
    "model_path = './Bi-LSTM/Bi-LSTMModelsT/model_20230608_192510.h5'\n",
    "tokenizer_path = './Bi-LSTM/Bi-LSTM TokenizerT/tokenizer_20230608_192510.pkl'\n",
    "seed_text = \"I wanna dance with somebody\"\n",
    "next_words = 20\n",
    "\n",
    "generated_lyrics = evaluate_lyrical_text(model_path, tokenizer_path, seed_text, next_words)\n",
    "print(f\"Generated Lyrics: {generated_lyrics}\")"
   ]
  }
 ],
 "metadata": {
  "kernelspec": {
   "display_name": "textGeneration",
   "language": "python",
   "name": "python3"
  },
  "language_info": {
   "codemirror_mode": {
    "name": "ipython",
    "version": 3
   },
   "file_extension": ".py",
   "mimetype": "text/x-python",
   "name": "python",
   "nbconvert_exporter": "python",
   "pygments_lexer": "ipython3",
   "version": "3.10.11"
  },
  "orig_nbformat": 4
 },
 "nbformat": 4,
 "nbformat_minor": 2
}
